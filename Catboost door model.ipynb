{
 "cells": [
  {
   "cell_type": "code",
   "execution_count": null,
   "id": "f69d8bff",
   "metadata": {},
   "outputs": [],
   "source": []
  },
  {
   "cell_type": "code",
   "execution_count": 24,
   "id": "6fdb3762",
   "metadata": {
    "scrolled": true
   },
   "outputs": [
    {
     "data": {
      "text/html": [
       "<div>\n",
       "<style scoped>\n",
       "    .dataframe tbody tr th:only-of-type {\n",
       "        vertical-align: middle;\n",
       "    }\n",
       "\n",
       "    .dataframe tbody tr th {\n",
       "        vertical-align: top;\n",
       "    }\n",
       "\n",
       "    .dataframe thead th {\n",
       "        text-align: right;\n",
       "    }\n",
       "</style>\n",
       "<table border=\"1\" class=\"dataframe\">\n",
       "  <thead>\n",
       "    <tr style=\"text-align: right;\">\n",
       "      <th></th>\n",
       "      <th>door</th>\n",
       "      <th>xmin</th>\n",
       "      <th>ymin</th>\n",
       "      <th>xmax</th>\n",
       "      <th>ymax</th>\n",
       "    </tr>\n",
       "  </thead>\n",
       "  <tbody>\n",
       "    <tr>\n",
       "      <th>0</th>\n",
       "      <td>1</td>\n",
       "      <td>208</td>\n",
       "      <td>666</td>\n",
       "      <td>397</td>\n",
       "      <td>1049</td>\n",
       "    </tr>\n",
       "    <tr>\n",
       "      <th>1</th>\n",
       "      <td>1</td>\n",
       "      <td>208</td>\n",
       "      <td>666</td>\n",
       "      <td>397</td>\n",
       "      <td>1049</td>\n",
       "    </tr>\n",
       "    <tr>\n",
       "      <th>2</th>\n",
       "      <td>1</td>\n",
       "      <td>208</td>\n",
       "      <td>666</td>\n",
       "      <td>397</td>\n",
       "      <td>1049</td>\n",
       "    </tr>\n",
       "    <tr>\n",
       "      <th>3</th>\n",
       "      <td>1</td>\n",
       "      <td>208</td>\n",
       "      <td>666</td>\n",
       "      <td>397</td>\n",
       "      <td>1049</td>\n",
       "    </tr>\n",
       "    <tr>\n",
       "      <th>4</th>\n",
       "      <td>1</td>\n",
       "      <td>232</td>\n",
       "      <td>661</td>\n",
       "      <td>476</td>\n",
       "      <td>1049</td>\n",
       "    </tr>\n",
       "  </tbody>\n",
       "</table>\n",
       "</div>"
      ],
      "text/plain": [
       "   door  xmin  ymin  xmax  ymax\n",
       "0     1   208   666   397  1049\n",
       "1     1   208   666   397  1049\n",
       "2     1   208   666   397  1049\n",
       "3     1   208   666   397  1049\n",
       "4     1   232   661   476  1049"
      ]
     },
     "execution_count": 24,
     "metadata": {},
     "output_type": "execute_result"
    }
   ],
   "source": [
    "import pandas as pd\n",
    "\n",
    "door_df = pd.read_csv('door_coord_df_single.csv')\n",
    "door_df.head()"
   ]
  },
  {
   "cell_type": "code",
   "execution_count": 25,
   "id": "64b49f89",
   "metadata": {},
   "outputs": [
    {
     "data": {
      "text/html": [
       "<div>\n",
       "<style scoped>\n",
       "    .dataframe tbody tr th:only-of-type {\n",
       "        vertical-align: middle;\n",
       "    }\n",
       "\n",
       "    .dataframe tbody tr th {\n",
       "        vertical-align: top;\n",
       "    }\n",
       "\n",
       "    .dataframe thead th {\n",
       "        text-align: right;\n",
       "    }\n",
       "</style>\n",
       "<table border=\"1\" class=\"dataframe\">\n",
       "  <thead>\n",
       "    <tr style=\"text-align: right;\">\n",
       "      <th></th>\n",
       "      <th>door</th>\n",
       "      <th>xmin</th>\n",
       "      <th>ymin</th>\n",
       "      <th>xmax</th>\n",
       "      <th>ymax</th>\n",
       "    </tr>\n",
       "  </thead>\n",
       "  <tbody>\n",
       "    <tr>\n",
       "      <th>28</th>\n",
       "      <td>2</td>\n",
       "      <td>869</td>\n",
       "      <td>396</td>\n",
       "      <td>951</td>\n",
       "      <td>683</td>\n",
       "    </tr>\n",
       "    <tr>\n",
       "      <th>29</th>\n",
       "      <td>2</td>\n",
       "      <td>869</td>\n",
       "      <td>396</td>\n",
       "      <td>951</td>\n",
       "      <td>683</td>\n",
       "    </tr>\n",
       "    <tr>\n",
       "      <th>30</th>\n",
       "      <td>2</td>\n",
       "      <td>869</td>\n",
       "      <td>396</td>\n",
       "      <td>951</td>\n",
       "      <td>683</td>\n",
       "    </tr>\n",
       "    <tr>\n",
       "      <th>31</th>\n",
       "      <td>2</td>\n",
       "      <td>869</td>\n",
       "      <td>396</td>\n",
       "      <td>951</td>\n",
       "      <td>683</td>\n",
       "    </tr>\n",
       "    <tr>\n",
       "      <th>32</th>\n",
       "      <td>2</td>\n",
       "      <td>877</td>\n",
       "      <td>397</td>\n",
       "      <td>970</td>\n",
       "      <td>684</td>\n",
       "    </tr>\n",
       "  </tbody>\n",
       "</table>\n",
       "</div>"
      ],
      "text/plain": [
       "    door  xmin  ymin  xmax  ymax\n",
       "28     2   869   396   951   683\n",
       "29     2   869   396   951   683\n",
       "30     2   869   396   951   683\n",
       "31     2   869   396   951   683\n",
       "32     2   877   397   970   684"
      ]
     },
     "execution_count": 25,
     "metadata": {},
     "output_type": "execute_result"
    }
   ],
   "source": [
    "door_df[door_df['door']==2].head()"
   ]
  },
  {
   "cell_type": "code",
   "execution_count": 26,
   "id": "4bbc2027",
   "metadata": {},
   "outputs": [],
   "source": [
    "from sklearn.model_selection import train_test_split\n",
    "\n",
    "train, test = train_test_split(door_df, test_size=0.1)"
   ]
  },
  {
   "cell_type": "code",
   "execution_count": 27,
   "id": "6214be8f",
   "metadata": {},
   "outputs": [
    {
     "name": "stderr",
     "output_type": "stream",
     "text": [
      "Warning: less than 75% gpu memory available for training. Free: 8306.8125 Total: 24268.3125\n"
     ]
    },
    {
     "data": {
      "text/plain": [
       "<catboost.core.CatBoostClassifier at 0x7fc960d4a5e0>"
      ]
     },
     "execution_count": 27,
     "metadata": {},
     "output_type": "execute_result"
    }
   ],
   "source": [
    "from catboost import CatBoostClassifier\n",
    "\n",
    "model = CatBoostClassifier(iterations=1000,\n",
    "                           task_type=\"GPU\",\n",
    "                           devices='0:1')\n",
    "model.fit(train[['xmin','ymin','xmax','ymax']],\n",
    "          train[['door']],\n",
    "          verbose=False)"
   ]
  },
  {
   "cell_type": "code",
   "execution_count": 28,
   "id": "032d130a",
   "metadata": {},
   "outputs": [],
   "source": [
    "pred = model.predict(test[['xmin','ymin','xmax','ymax']])"
   ]
  },
  {
   "cell_type": "code",
   "execution_count": 29,
   "id": "eef8f9f4",
   "metadata": {},
   "outputs": [],
   "source": [
    "test['pred']=pred"
   ]
  },
  {
   "cell_type": "code",
   "execution_count": 30,
   "id": "e4eb1cb9",
   "metadata": {
    "scrolled": true
   },
   "outputs": [
    {
     "data": {
      "text/html": [
       "<div>\n",
       "<style scoped>\n",
       "    .dataframe tbody tr th:only-of-type {\n",
       "        vertical-align: middle;\n",
       "    }\n",
       "\n",
       "    .dataframe tbody tr th {\n",
       "        vertical-align: top;\n",
       "    }\n",
       "\n",
       "    .dataframe thead th {\n",
       "        text-align: right;\n",
       "    }\n",
       "</style>\n",
       "<table border=\"1\" class=\"dataframe\">\n",
       "  <thead>\n",
       "    <tr style=\"text-align: right;\">\n",
       "      <th></th>\n",
       "      <th>door</th>\n",
       "      <th>xmin</th>\n",
       "      <th>ymin</th>\n",
       "      <th>xmax</th>\n",
       "      <th>ymax</th>\n",
       "      <th>pred</th>\n",
       "    </tr>\n",
       "  </thead>\n",
       "  <tbody>\n",
       "    <tr>\n",
       "      <th>4113</th>\n",
       "      <td>4</td>\n",
       "      <td>1225</td>\n",
       "      <td>268</td>\n",
       "      <td>1249</td>\n",
       "      <td>332</td>\n",
       "      <td>4</td>\n",
       "    </tr>\n",
       "    <tr>\n",
       "      <th>2296</th>\n",
       "      <td>5</td>\n",
       "      <td>1306</td>\n",
       "      <td>260</td>\n",
       "      <td>1325</td>\n",
       "      <td>313</td>\n",
       "      <td>5</td>\n",
       "    </tr>\n",
       "    <tr>\n",
       "      <th>297</th>\n",
       "      <td>2</td>\n",
       "      <td>911</td>\n",
       "      <td>374</td>\n",
       "      <td>1030</td>\n",
       "      <td>679</td>\n",
       "      <td>2</td>\n",
       "    </tr>\n",
       "    <tr>\n",
       "      <th>3890</th>\n",
       "      <td>4</td>\n",
       "      <td>1270</td>\n",
       "      <td>279</td>\n",
       "      <td>1316</td>\n",
       "      <td>392</td>\n",
       "      <td>4</td>\n",
       "    </tr>\n",
       "    <tr>\n",
       "      <th>961</th>\n",
       "      <td>4</td>\n",
       "      <td>1219</td>\n",
       "      <td>234</td>\n",
       "      <td>1254</td>\n",
       "      <td>332</td>\n",
       "      <td>4</td>\n",
       "    </tr>\n",
       "  </tbody>\n",
       "</table>\n",
       "</div>"
      ],
      "text/plain": [
       "      door  xmin  ymin  xmax  ymax  pred\n",
       "4113     4  1225   268  1249   332     4\n",
       "2296     5  1306   260  1325   313     5\n",
       "297      2   911   374  1030   679     2\n",
       "3890     4  1270   279  1316   392     4\n",
       "961      4  1219   234  1254   332     4"
      ]
     },
     "execution_count": 30,
     "metadata": {},
     "output_type": "execute_result"
    }
   ],
   "source": [
    "test.head()"
   ]
  },
  {
   "cell_type": "code",
   "execution_count": 34,
   "id": "95342767",
   "metadata": {},
   "outputs": [
    {
     "data": {
      "text/plain": [
       "(549, 6)"
      ]
     },
     "execution_count": 34,
     "metadata": {},
     "output_type": "execute_result"
    }
   ],
   "source": [
    "all_shape=test.shape\n",
    "all_shape"
   ]
  },
  {
   "cell_type": "code",
   "execution_count": 35,
   "id": "c271adfd",
   "metadata": {},
   "outputs": [
    {
     "data": {
      "text/plain": [
       "(523, 6)"
      ]
     },
     "execution_count": 35,
     "metadata": {},
     "output_type": "execute_result"
    }
   ],
   "source": [
    "good_shape =test[test['door']==test['pred']].shape\n",
    "good_shape"
   ]
  },
  {
   "cell_type": "code",
   "execution_count": 37,
   "id": "1bbf723c",
   "metadata": {},
   "outputs": [
    {
     "data": {
      "text/plain": [
       "0.9526411657559198"
      ]
     },
     "execution_count": 37,
     "metadata": {},
     "output_type": "execute_result"
    }
   ],
   "source": [
    "good_shape[0]/all_shape[0]"
   ]
  },
  {
   "cell_type": "code",
   "execution_count": 16,
   "id": "5258e067",
   "metadata": {},
   "outputs": [],
   "source": [
    "model.save_model(\"door_predict.cbm\")"
   ]
  },
  {
   "cell_type": "code",
   "execution_count": 38,
   "id": "2a11175d",
   "metadata": {},
   "outputs": [],
   "source": [
    "train2_df=pd.read_csv('door_coord_df2_single.csv')"
   ]
  },
  {
   "cell_type": "code",
   "execution_count": 39,
   "id": "16d197e7",
   "metadata": {},
   "outputs": [],
   "source": [
    "pred = model.predict(train2_df[['xmin','ymin','xmax','ymax']])"
   ]
  },
  {
   "cell_type": "code",
   "execution_count": 40,
   "id": "6bb8310b",
   "metadata": {},
   "outputs": [
    {
     "data": {
      "text/html": [
       "<div>\n",
       "<style scoped>\n",
       "    .dataframe tbody tr th:only-of-type {\n",
       "        vertical-align: middle;\n",
       "    }\n",
       "\n",
       "    .dataframe tbody tr th {\n",
       "        vertical-align: top;\n",
       "    }\n",
       "\n",
       "    .dataframe thead th {\n",
       "        text-align: right;\n",
       "    }\n",
       "</style>\n",
       "<table border=\"1\" class=\"dataframe\">\n",
       "  <thead>\n",
       "    <tr style=\"text-align: right;\">\n",
       "      <th></th>\n",
       "      <th>door</th>\n",
       "      <th>xmin</th>\n",
       "      <th>ymin</th>\n",
       "      <th>xmax</th>\n",
       "      <th>ymax</th>\n",
       "      <th>pred</th>\n",
       "    </tr>\n",
       "  </thead>\n",
       "  <tbody>\n",
       "    <tr>\n",
       "      <th>0</th>\n",
       "      <td>1</td>\n",
       "      <td>182</td>\n",
       "      <td>652</td>\n",
       "      <td>311</td>\n",
       "      <td>905</td>\n",
       "      <td>1</td>\n",
       "    </tr>\n",
       "    <tr>\n",
       "      <th>1</th>\n",
       "      <td>1</td>\n",
       "      <td>172</td>\n",
       "      <td>646</td>\n",
       "      <td>368</td>\n",
       "      <td>975</td>\n",
       "      <td>1</td>\n",
       "    </tr>\n",
       "    <tr>\n",
       "      <th>2</th>\n",
       "      <td>1</td>\n",
       "      <td>179</td>\n",
       "      <td>649</td>\n",
       "      <td>338</td>\n",
       "      <td>907</td>\n",
       "      <td>1</td>\n",
       "    </tr>\n",
       "    <tr>\n",
       "      <th>3</th>\n",
       "      <td>1</td>\n",
       "      <td>207</td>\n",
       "      <td>663</td>\n",
       "      <td>354</td>\n",
       "      <td>915</td>\n",
       "      <td>1</td>\n",
       "    </tr>\n",
       "    <tr>\n",
       "      <th>4</th>\n",
       "      <td>1</td>\n",
       "      <td>238</td>\n",
       "      <td>680</td>\n",
       "      <td>373</td>\n",
       "      <td>909</td>\n",
       "      <td>1</td>\n",
       "    </tr>\n",
       "  </tbody>\n",
       "</table>\n",
       "</div>"
      ],
      "text/plain": [
       "   door  xmin  ymin  xmax  ymax  pred\n",
       "0     1   182   652   311   905     1\n",
       "1     1   172   646   368   975     1\n",
       "2     1   179   649   338   907     1\n",
       "3     1   207   663   354   915     1\n",
       "4     1   238   680   373   909     1"
      ]
     },
     "execution_count": 40,
     "metadata": {},
     "output_type": "execute_result"
    }
   ],
   "source": [
    "train2_df['pred']=pred\n",
    "train2_df.head()"
   ]
  },
  {
   "cell_type": "code",
   "execution_count": 41,
   "id": "8df6459a",
   "metadata": {},
   "outputs": [
    {
     "data": {
      "text/plain": [
       "(8144, 6)"
      ]
     },
     "execution_count": 41,
     "metadata": {},
     "output_type": "execute_result"
    }
   ],
   "source": [
    "all2_shape=train2_df.shape\n",
    "all2_shape"
   ]
  },
  {
   "cell_type": "code",
   "execution_count": 42,
   "id": "29d58e9e",
   "metadata": {},
   "outputs": [
    {
     "data": {
      "text/plain": [
       "(5772, 6)"
      ]
     },
     "execution_count": 42,
     "metadata": {},
     "output_type": "execute_result"
    }
   ],
   "source": [
    "good2_shape=train2_df[train2_df['door']==train2_df['pred']].shape\n",
    "good2_shape"
   ]
  },
  {
   "cell_type": "code",
   "execution_count": 44,
   "id": "09fc1c97",
   "metadata": {},
   "outputs": [
    {
     "data": {
      "text/plain": [
       "0.7087426326129665"
      ]
     },
     "execution_count": 44,
     "metadata": {},
     "output_type": "execute_result"
    }
   ],
   "source": [
    "good2_shape[0]/all2_shape[0]"
   ]
  },
  {
   "cell_type": "code",
   "execution_count": 23,
   "id": "53a80191",
   "metadata": {},
   "outputs": [
    {
     "data": {
      "text/plain": [
       "0.6400935265304729"
      ]
     },
     "execution_count": 23,
     "metadata": {},
     "output_type": "execute_result"
    }
   ],
   "source": [
    "37505/58593"
   ]
  },
  {
   "cell_type": "code",
   "execution_count": 47,
   "id": "7b55ab00",
   "metadata": {},
   "outputs": [
    {
     "name": "stdout",
     "output_type": "stream",
     "text": [
      "Door 1:1.0(15/15)\n",
      "Door 2:0.7619270346117867(1629/2138)\n",
      "Door 3:0.591304347826087(272/460)\n",
      "Door 4:0.8284611141753999(1502/1813)\n",
      "Door 5:0.8318135764944276(1642/1974)\n",
      "Door 6:0.6368715083798883(114/179)\n",
      "Door 7:empty\n",
      "Door 8:0.36545079146593257(531/1453)\n",
      "Door 9:0.5982142857142857(67/112)\n"
     ]
    }
   ],
   "source": [
    "for i in range(1,10):\n",
    "    door_i_df = train2_df[train2_df['door']==i]\n",
    "    all2_i_shape=door_i_df.shape\n",
    "    if all2_i_shape[0]==0:\n",
    "        print(f'Door {i}:empty')\n",
    "    else:\n",
    "        good2_i_shape=door_i_df[door_i_df['pred']==i].shape\n",
    "        print(f'Door {i}:{good2_i_shape[0]/all2_i_shape[0]}({good2_i_shape[0]}/{all2_i_shape[0]})')"
   ]
  },
  {
   "cell_type": "code",
   "execution_count": null,
   "id": "720b3f2b",
   "metadata": {},
   "outputs": [],
   "source": []
  },
  {
   "cell_type": "code",
   "execution_count": null,
   "id": "6c1b0d97",
   "metadata": {},
   "outputs": [],
   "source": []
  },
  {
   "cell_type": "code",
   "execution_count": null,
   "id": "2de8d4a6",
   "metadata": {},
   "outputs": [],
   "source": []
  }
 ],
 "metadata": {
  "kernelspec": {
   "display_name": "venv",
   "language": "python",
   "name": "venv"
  },
  "language_info": {
   "codemirror_mode": {
    "name": "ipython",
    "version": 3
   },
   "file_extension": ".py",
   "mimetype": "text/x-python",
   "name": "python",
   "nbconvert_exporter": "python",
   "pygments_lexer": "ipython3",
   "version": "3.8.10"
  }
 },
 "nbformat": 4,
 "nbformat_minor": 5
}
